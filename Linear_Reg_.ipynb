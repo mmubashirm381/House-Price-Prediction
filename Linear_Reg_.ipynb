{
  "cells": [
    {
      "cell_type": "markdown",
      "metadata": {
        "id": "view-in-github",
        "colab_type": "text"
      },
      "source": [
        "<a href=\"https://colab.research.google.com/github/mmubashirm381/House-Price-Prediction/blob/main/Linear_Reg_.ipynb\" target=\"_parent\"><img src=\"https://colab.research.google.com/assets/colab-badge.svg\" alt=\"Open In Colab\"/></a>"
      ]
    },
    {
      "cell_type": "code",
      "execution_count": null,
      "id": "5f36257b-c8b6-4a1b-a8a0-817b272a3902",
      "metadata": {
        "id": "5f36257b-c8b6-4a1b-a8a0-817b272a3902"
      },
      "outputs": [],
      "source": [
        "#Import Libraries\n",
        "import numpy as np\n",
        "import pandas as pd\n",
        "import matplotlib.pyplot as plt\n",
        "\n",
        "from sklearn.linear_model import LinearRegression,Ridge,Lasso\n",
        "from sklearn.model_selection import KFold, cross_val_score, train_test_split\n",
        "from sklearn.pipeline import make_pipeline\n",
        "from sklearn.preprocessing import RobustScaler\n",
        "from sklearn.model_selection import GridSearchCV\n",
        "from sklearn.pipeline import Pipeline\n",
        "from sklearn.metrics import mean_squared_error\n",
        "\n",
        "import warnings\n",
        "from warnings import filterwarnings\n",
        "from sklearn.exceptions import DataConversionWarning\n",
        "warnings.filterwarnings(\"ignore\")\n",
        "warnings.simplefilter(action='ignore', category=FutureWarning)\n",
        "warnings.simplefilter(action='ignore', category=DeprecationWarning)\n",
        "warnings.filterwarnings(action='ignore', category=DataConversionWarning)"
      ]
    },
    {
      "cell_type": "code",
      "execution_count": null,
      "id": "be23d362-0c04-4023-b3d4-51bc53224dab",
      "metadata": {
        "id": "be23d362-0c04-4023-b3d4-51bc53224dab"
      },
      "outputs": [],
      "source": [
        "#data = pd.read_csv('./processed_data.csv')"
      ]
    },
    {
      "cell_type": "code",
      "execution_count": null,
      "id": "a363e154-76b7-46e9-a890-7ec2529a8e1c",
      "metadata": {
        "id": "a363e154-76b7-46e9-a890-7ec2529a8e1c"
      },
      "outputs": [],
      "source": [
        "#data.head()"
      ]
    },
    {
      "cell_type": "code",
      "execution_count": null,
      "id": "873e9d83-cb98-4dc3-ad33-1c907e89e387",
      "metadata": {
        "id": "873e9d83-cb98-4dc3-ad33-1c907e89e387"
      },
      "outputs": [],
      "source": [
        "# Data X, Y\n",
        "#X = data.loc[:, data.columns != 'SalePrice' ].values\n",
        "#Y = data.SalePrice.values\n",
        "X = pd.read_csv('./processed_train_x.csv')\n",
        "Y = pd.read_csv('./processed_train_y.csv')"
      ]
    },
    {
      "cell_type": "code",
      "execution_count": null,
      "id": "b4c8a395-ea8d-4e17-b396-69db128bb5c2",
      "metadata": {
        "id": "b4c8a395-ea8d-4e17-b396-69db128bb5c2"
      },
      "outputs": [],
      "source": [
        "#Cross Validation\n",
        "n_folds = 5\n",
        "\n",
        "def rmse_cv(model):\n",
        "    kf = KFold(n_folds, shuffle=True, random_state=42).get_n_splits(X.values)\n",
        "    rmse= np.sqrt(-cross_val_score(model, X.values, Y.values, scoring=\"neg_mean_squared_error\", cv = kf))\n",
        "    return(rmse)"
      ]
    },
    {
      "cell_type": "code",
      "execution_count": null,
      "id": "da8da511-cdf1-4772-92c7-6bb4cf30e10f",
      "metadata": {
        "id": "da8da511-cdf1-4772-92c7-6bb4cf30e10f",
        "outputId": "af4fc085-4465-4298-bf2f-d0f5475f61b7"
      },
      "outputs": [
        {
          "name": "stdout",
          "output_type": "stream",
          "text": [
            "\n",
            "Simple Linear score: 0.1241 (0.0105)\n",
            "\n"
          ]
        }
      ],
      "source": [
        "linear = make_pipeline(RobustScaler(), LinearRegression())\n",
        "score = rmse_cv(linear)\n",
        "print(\"\\nSimple Linear score: {:.4f} ({:.4f})\\n\".format(score.mean(), score.std()))"
      ]
    },
    {
      "cell_type": "code",
      "execution_count": null,
      "id": "02674f4b-b981-4109-bb59-3da64a09dfda",
      "metadata": {
        "collapsed": true,
        "jupyter": {
          "outputs_hidden": true
        },
        "tags": [],
        "id": "02674f4b-b981-4109-bb59-3da64a09dfda",
        "outputId": "4185ea9c-e400-489e-ddf4-90a052d60090"
      },
      "outputs": [
        {
          "data": {
            "text/html": [
              "<style>#sk-container-id-2 {color: black;background-color: white;}#sk-container-id-2 pre{padding: 0;}#sk-container-id-2 div.sk-toggleable {background-color: white;}#sk-container-id-2 label.sk-toggleable__label {cursor: pointer;display: block;width: 100%;margin-bottom: 0;padding: 0.3em;box-sizing: border-box;text-align: center;}#sk-container-id-2 label.sk-toggleable__label-arrow:before {content: \"▸\";float: left;margin-right: 0.25em;color: #696969;}#sk-container-id-2 label.sk-toggleable__label-arrow:hover:before {color: black;}#sk-container-id-2 div.sk-estimator:hover label.sk-toggleable__label-arrow:before {color: black;}#sk-container-id-2 div.sk-toggleable__content {max-height: 0;max-width: 0;overflow: hidden;text-align: left;background-color: #f0f8ff;}#sk-container-id-2 div.sk-toggleable__content pre {margin: 0.2em;color: black;border-radius: 0.25em;background-color: #f0f8ff;}#sk-container-id-2 input.sk-toggleable__control:checked~div.sk-toggleable__content {max-height: 200px;max-width: 100%;overflow: auto;}#sk-container-id-2 input.sk-toggleable__control:checked~label.sk-toggleable__label-arrow:before {content: \"▾\";}#sk-container-id-2 div.sk-estimator input.sk-toggleable__control:checked~label.sk-toggleable__label {background-color: #d4ebff;}#sk-container-id-2 div.sk-label input.sk-toggleable__control:checked~label.sk-toggleable__label {background-color: #d4ebff;}#sk-container-id-2 input.sk-hidden--visually {border: 0;clip: rect(1px 1px 1px 1px);clip: rect(1px, 1px, 1px, 1px);height: 1px;margin: -1px;overflow: hidden;padding: 0;position: absolute;width: 1px;}#sk-container-id-2 div.sk-estimator {font-family: monospace;background-color: #f0f8ff;border: 1px dotted black;border-radius: 0.25em;box-sizing: border-box;margin-bottom: 0.5em;}#sk-container-id-2 div.sk-estimator:hover {background-color: #d4ebff;}#sk-container-id-2 div.sk-parallel-item::after {content: \"\";width: 100%;border-bottom: 1px solid gray;flex-grow: 1;}#sk-container-id-2 div.sk-label:hover label.sk-toggleable__label {background-color: #d4ebff;}#sk-container-id-2 div.sk-serial::before {content: \"\";position: absolute;border-left: 1px solid gray;box-sizing: border-box;top: 0;bottom: 0;left: 50%;z-index: 0;}#sk-container-id-2 div.sk-serial {display: flex;flex-direction: column;align-items: center;background-color: white;padding-right: 0.2em;padding-left: 0.2em;position: relative;}#sk-container-id-2 div.sk-item {position: relative;z-index: 1;}#sk-container-id-2 div.sk-parallel {display: flex;align-items: stretch;justify-content: center;background-color: white;position: relative;}#sk-container-id-2 div.sk-item::before, #sk-container-id-2 div.sk-parallel-item::before {content: \"\";position: absolute;border-left: 1px solid gray;box-sizing: border-box;top: 0;bottom: 0;left: 50%;z-index: -1;}#sk-container-id-2 div.sk-parallel-item {display: flex;flex-direction: column;z-index: 1;position: relative;background-color: white;}#sk-container-id-2 div.sk-parallel-item:first-child::after {align-self: flex-end;width: 50%;}#sk-container-id-2 div.sk-parallel-item:last-child::after {align-self: flex-start;width: 50%;}#sk-container-id-2 div.sk-parallel-item:only-child::after {width: 0;}#sk-container-id-2 div.sk-dashed-wrapped {border: 1px dashed gray;margin: 0 0.4em 0.5em 0.4em;box-sizing: border-box;padding-bottom: 0.4em;background-color: white;}#sk-container-id-2 div.sk-label label {font-family: monospace;font-weight: bold;display: inline-block;line-height: 1.2em;}#sk-container-id-2 div.sk-label-container {text-align: center;}#sk-container-id-2 div.sk-container {/* jupyter's `normalize.less` sets `[hidden] { display: none; }` but bootstrap.min.css set `[hidden] { display: none !important; }` so we also need the `!important` here to be able to override the default hidden behavior on the sphinx rendered scikit-learn.org. See: https://github.com/scikit-learn/scikit-learn/issues/21755 */display: inline-block !important;position: relative;}#sk-container-id-2 div.sk-text-repr-fallback {display: none;}</style><div id=\"sk-container-id-2\" class=\"sk-top-container\"><div class=\"sk-text-repr-fallback\"><pre>LinearRegression()</pre><b>In a Jupyter environment, please rerun this cell to show the HTML representation or trust the notebook. <br />On GitHub, the HTML representation is unable to render, please try loading this page with nbviewer.org.</b></div><div class=\"sk-container\" hidden><div class=\"sk-item\"><div class=\"sk-estimator sk-toggleable\"><input class=\"sk-toggleable__control sk-hidden--visually\" id=\"sk-estimator-id-2\" type=\"checkbox\" checked><label for=\"sk-estimator-id-2\" class=\"sk-toggleable__label sk-toggleable__label-arrow\">LinearRegression</label><div class=\"sk-toggleable__content\"><pre>LinearRegression()</pre></div></div></div></div></div>"
            ],
            "text/plain": [
              "LinearRegression()"
            ]
          },
          "execution_count": 72,
          "metadata": {},
          "output_type": "execute_result"
        }
      ],
      "source": [
        "LR = LinearRegression()\n",
        "LR.fit(X, Y)"
      ]
    },
    {
      "cell_type": "code",
      "execution_count": null,
      "id": "6931fd79-db3a-4bc7-ae12-1087ce6f6a6b",
      "metadata": {
        "tags": [],
        "id": "6931fd79-db3a-4bc7-ae12-1087ce6f6a6b",
        "outputId": "dcf9b8ea-9ba1-40b9-a723-93316804670f"
      },
      "outputs": [
        {
          "name": "stdout",
          "output_type": "stream",
          "text": [
            "{'lasso__alpha': 0.001, 'lasso__max_iter': 1000, 'lasso__normalize': False}\n"
          ]
        }
      ],
      "source": [
        "#lasso model using GridSearchCV\n",
        "lasso_pipe = Pipeline([(\"scaler\", RobustScaler()),(\"lasso\",Lasso())])\n",
        "\n",
        "alphas = np.logspace(-3,5, 20)\n",
        "\n",
        "params = {'lasso__max_iter':[50,100,1000],\n",
        "          'lasso__alpha':alphas,\n",
        "          'lasso__normalize':[True, False]}\n",
        "\n",
        "#Hyper parameter tuning using GridSearchCV\n",
        "lasso_grid = GridSearchCV(lasso_pipe,\n",
        "                         params,\n",
        "                         scoring = 'neg_mean_squared_error',\n",
        "                         cv=n_folds)\n",
        "\n",
        "\n",
        "lasso_grid.fit(X,Y)\n",
        "print (lasso_grid.best_params_)"
      ]
    },
    {
      "cell_type": "code",
      "execution_count": null,
      "id": "4e83f92a-8780-454d-86aa-e216dbc88f0e",
      "metadata": {
        "id": "4e83f92a-8780-454d-86aa-e216dbc88f0e",
        "outputId": "1c393037-792f-41bd-c5cb-a2041d2f15ea"
      },
      "outputs": [
        {
          "name": "stdout",
          "output_type": "stream",
          "text": [
            "\n",
            "Lasso score: 0.1133 (0.0074)\n",
            "\n"
          ]
        }
      ],
      "source": [
        "lasso = make_pipeline(RobustScaler(), Lasso(alpha =lasso_grid.best_params_['lasso__alpha'], max_iter = lasso_grid.best_params_['lasso__max_iter'], normalize = lasso_grid.best_params_['lasso__normalize'], random_state=1))\n",
        "score = rmse_cv(lasso)\n",
        "print(\"\\nLasso score: {:.4f} ({:.4f})\\n\".format(score.mean(), score.std()))"
      ]
    },
    {
      "cell_type": "code",
      "execution_count": null,
      "id": "ee69c1ff-0322-40db-8e52-1b7f219048ee",
      "metadata": {
        "id": "ee69c1ff-0322-40db-8e52-1b7f219048ee",
        "outputId": "4f8e5a1c-07e4-4f79-e1a2-e81d77c08659"
      },
      "outputs": [
        {
          "name": "stdout",
          "output_type": "stream",
          "text": [
            "{'ridge__alpha': 16.23776739188721, 'ridge__max_iter': 50}\n"
          ]
        }
      ],
      "source": [
        "#Ridge model using GridSearchCV\n",
        "ridge_pipe = Pipeline([(\"scaler\", RobustScaler()),(\"ridge\",Ridge())])\n",
        "\n",
        "\n",
        "#Hyper parameter tuning using GridSearchCV\n",
        "params = {'ridge__max_iter':[50,100,1000],\n",
        "          'ridge__alpha':alphas}\n",
        "\n",
        "ridge_grid = GridSearchCV(ridge_pipe,\n",
        "                         params,\n",
        "                         scoring = 'neg_mean_squared_error',\n",
        "                         cv=n_folds)\n",
        "\n",
        "\n",
        "ridge_grid.fit(X,Y)\n",
        "print (ridge_grid.best_params_)"
      ]
    },
    {
      "cell_type": "code",
      "execution_count": null,
      "id": "8715081e-3b67-4de9-941d-3c6f44026e8d",
      "metadata": {
        "id": "8715081e-3b67-4de9-941d-3c6f44026e8d",
        "outputId": "68f180fa-bd80-4a4a-9995-4f654c5b7d29"
      },
      "outputs": [
        {
          "name": "stdout",
          "output_type": "stream",
          "text": [
            "\n",
            "Ridge score: 0.1140 (0.0073)\n",
            "\n"
          ]
        }
      ],
      "source": [
        "ridge = make_pipeline(RobustScaler(), Ridge(alpha =ridge_grid.best_params_['ridge__alpha'], max_iter = ridge_grid.best_params_['ridge__max_iter'], random_state=1))\n",
        "score = rmse_cv(ridge)\n",
        "print(\"\\nRidge score: {:.4f} ({:.4f})\\n\".format(score.mean(), score.std()))"
      ]
    },
    {
      "cell_type": "code",
      "execution_count": null,
      "id": "4e24f91c-0593-4b5c-87bf-db6888354b29",
      "metadata": {
        "id": "4e24f91c-0593-4b5c-87bf-db6888354b29"
      },
      "outputs": [],
      "source": [
        "lasso_scores = []\n",
        "lasso = Lasso(normalize = True)\n",
        "#lasso = Lasso(alpha =lasso_grid.best_params_['lasso__alpha'], max_iter = lasso_grid.best_params_['lasso__max_iter'], normalize = lasso_grid.best_params_['lasso__normalize'], random_state=1)\n",
        "for alpha in alphas:\n",
        "    lasso.alpha = alpha\n",
        "    val = np.mean(-cross_val_score(lasso, X, Y,scoring=\"neg_mean_squared_error\", cv = n_folds))\n",
        "    lasso_scores.append(val)"
      ]
    },
    {
      "cell_type": "code",
      "execution_count": null,
      "id": "54a12fe7-49d7-4f34-9d4d-ca4da249031c",
      "metadata": {
        "id": "54a12fe7-49d7-4f34-9d4d-ca4da249031c"
      },
      "outputs": [],
      "source": [
        "ridge_scores = []\n",
        "ridge = Ridge(normalize = True)\n",
        "#ridge = Ridge(alpha =ridge_grid.best_params_['ridge__alpha'], max_iter = ridge_grid.best_params_['ridge__max_iter'], random_state=1)\n",
        "for alpha in alphas:\n",
        "    ridge.alpha = alpha\n",
        "    val = np.mean(-cross_val_score(ridge, X, Y,scoring=\"neg_mean_squared_error\", cv = n_folds))\n",
        "    ridge_scores.append(val)"
      ]
    },
    {
      "cell_type": "code",
      "execution_count": null,
      "id": "bd35bff1-f809-4240-94e9-c15353012586",
      "metadata": {
        "id": "bd35bff1-f809-4240-94e9-c15353012586",
        "outputId": "e5e1089e-6b93-45b6-8e3b-f8c95b2056f5"
      },
      "outputs": [
        {
          "data": {
            "image/png": "[encoded data removed]",
            "text/plain": [
              "<Figure size 576x576 with 1 Axes>"
            ]
          },
          "metadata": {
            "needs_background": "light"
          },
          "output_type": "display_data"
        }
      ],
      "source": [
        "plt.figure(figsize=(8, 8))\n",
        "plt.plot(alphas, ridge_scores, marker = 'D', label = \"Ridge\")\n",
        "plt.plot(alphas, lasso_scores, marker = 'D', label = \"Lasso\")\n",
        "plt.legend()\n",
        "plt.xlim([-100, 1000])\n",
        "plt.xlabel('Alpha')\n",
        "plt.ylabel('Mean Squared Error')\n",
        "plt.title('MSE - Alpha')\n",
        "plt.show()"
      ]
    },
    {
      "cell_type": "code",
      "execution_count": null,
      "id": "d6280636-51e0-4bf1-b224-11c305ef6568",
      "metadata": {
        "id": "d6280636-51e0-4bf1-b224-11c305ef6568"
      },
      "outputs": [],
      "source": [
        "max_iter_list = [10, 50, 100, 250, 500, 750, 1000]\n",
        "\n",
        "lasso_scores = []\n",
        "lasso = Lasso(normalize = True)\n",
        "#lasso = Lasso(alpha =lasso_grid.best_params_['lasso__alpha'], max_iter = lasso_grid.best_params_['lasso__max_iter'], normalize = lasso_grid.best_params_['lasso__normalize'], random_state=1)\n",
        "for m_i in max_iter_list:\n",
        "    lasso.max_iter = m_i\n",
        "    val = np.mean(-cross_val_score(lasso, X, Y,scoring=\"neg_mean_squared_error\", cv = n_folds))\n",
        "    lasso_scores.append(val)"
      ]
    },
    {
      "cell_type": "code",
      "execution_count": null,
      "id": "7a7dcaff-be88-45ac-9fbd-546bf8e7e3eb",
      "metadata": {
        "id": "7a7dcaff-be88-45ac-9fbd-546bf8e7e3eb"
      },
      "outputs": [],
      "source": [
        "ridge_scores = []\n",
        "ridge = Ridge(normalize = True)\n",
        "#ridge = Ridge(alpha =ridge_grid.best_params_['ridge__alpha'], max_iter = ridge_grid.best_params_['ridge__max_iter'], random_state=1)\n",
        "for m_i in max_iter_list:\n",
        "    ridge.max_iter = m_i\n",
        "    val = np.mean(-cross_val_score(ridge, X, Y,scoring=\"neg_mean_squared_error\", cv = n_folds))\n",
        "    ridge_scores.append(val)"
      ]
    },
    {
      "cell_type": "code",
      "execution_count": null,
      "id": "90a16d9e-d7c6-4a9b-befd-6c169989e5c7",
      "metadata": {
        "id": "90a16d9e-d7c6-4a9b-befd-6c169989e5c7",
        "outputId": "b1b5cdf0-64ea-4b12-aa61-f9733a0b51c7"
      },
      "outputs": [
        {
          "data": {
            "image/png": "[encoded data removed]",
            "text/plain": [
              "<Figure size 576x576 with 1 Axes>"
            ]
          },
          "metadata": {
            "needs_background": "light"
          },
          "output_type": "display_data"
        }
      ],
      "source": [
        "plt.figure(figsize=(8, 8))\n",
        "plt.plot(max_iter_list, ridge_scores, marker = 'D', label = \"Ridge\")\n",
        "plt.plot(max_iter_list, lasso_scores, marker = 'D', label = \"Lasso\")\n",
        "plt.legend()\n",
        "plt.xlim([-100, 1000])\n",
        "plt.xlabel('max_iter')\n",
        "plt.ylabel('Mean Squared Error')\n",
        "plt.title('MSE - max_iter')\n",
        "plt.show()"
      ]
    },
    {
      "cell_type": "code",
      "execution_count": null,
      "id": "17fca962-9fd9-48fd-a99d-063a1a2f2fb0",
      "metadata": {
        "id": "17fca962-9fd9-48fd-a99d-063a1a2f2fb0"
      },
      "outputs": [],
      "source": [
        "#load test data\n",
        "test = pd.read_csv('./processed_test_x.csv')\n",
        "raw_test = pd.read_csv('./raw_data/test.csv')"
      ]
    },
    {
      "cell_type": "code",
      "execution_count": null,
      "id": "04dbf99d-f7c9-4560-915a-9188687885d0",
      "metadata": {
        "id": "04dbf99d-f7c9-4560-915a-9188687885d0"
      },
      "outputs": [],
      "source": [
        "pred_linear = LR.predict(test)\n",
        "pred_lasso = lasso_grid.predict(test)\n",
        "pred_ridge = ridge_grid.predict(test)"
      ]
    },
    {
      "cell_type": "code",
      "execution_count": null,
      "id": "e0516587-10f1-468d-99aa-48ad7228bd64",
      "metadata": {
        "id": "e0516587-10f1-468d-99aa-48ad7228bd64"
      },
      "outputs": [],
      "source": [
        "#result from simple linear regression\n",
        "result_linear = pd.DataFrame()\n",
        "result_linear['Id'] = raw_test.Id\n",
        "result_linear['SalePrice'] = np.expm1(pred_linear)\n",
        "result_linear.to_csv('linear_result.csv', index = False)"
      ]
    },
    {
      "cell_type": "code",
      "execution_count": null,
      "id": "a021126d-2656-4af6-aa7c-47f16d3abfa9",
      "metadata": {
        "id": "a021126d-2656-4af6-aa7c-47f16d3abfa9"
      },
      "outputs": [],
      "source": [
        "#result from lasso\n",
        "result_lasso = pd.DataFrame()\n",
        "result_lasso['Id'] = raw_test.Id\n",
        "result_lasso['SalePrice'] = np.expm1(pred_lasso)\n",
        "result_lasso.to_csv('lasso_result.csv', index = False)"
      ]
    },
    {
      "cell_type": "code",
      "execution_count": null,
      "id": "2f2ddf75-8166-480e-86eb-4a3bc366ea08",
      "metadata": {
        "id": "2f2ddf75-8166-480e-86eb-4a3bc366ea08"
      },
      "outputs": [],
      "source": [
        "#result from ridge\n",
        "result_ridge = pd.DataFrame()\n",
        "result_ridge['Id'] = raw_test.Id\n",
        "result_ridge['SalePrice'] = np.expm1(pred_ridge)\n",
        "result_ridge.to_csv('ridge_result.csv', index = False)"
      ]
    },
    {
      "cell_type": "code",
      "execution_count": null,
      "id": "df14b632-eb65-479a-ac8d-4d1f552647a2",
      "metadata": {
        "id": "df14b632-eb65-479a-ac8d-4d1f552647a2"
      },
      "outputs": [],
      "source": []
    }
  ],
  "metadata": {
    "kernelspec": {
      "display_name": "Python 3.8.13 (tensorflow)",
      "language": "python",
      "name": "tensorflow"
    },
    "language_info": {
      "codemirror_mode": {
        "name": "ipython",
        "version": 3
      },
      "file_extension": ".py",
      "mimetype": "text/x-python",
      "name": "python",
      "nbconvert_exporter": "python",
      "pygments_lexer": "ipython3",
      "version": "3.8.13"
    },
    "colab": {
      "provenance": [],
      "include_colab_link": true
    }
  },
  "nbformat": 4,
  "nbformat_minor": 5
}